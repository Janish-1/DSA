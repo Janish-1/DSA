{
 "cells": [
  {
   "cell_type": "markdown",
   "metadata": {},
   "source": [
    "1. **Count Nodes in a Linked List**\n",
    "   - Count the number of nodes in a singly linked list.\n",
    "\n",
    "2. **Find Middle Element of a Linked List**\n",
    "   - Find the middle element of a singly linked list.\n",
    "\n",
    "3. **Detect Loop in a Linked List**\n",
    "   - Check if a singly linked list has a loop (cycle) using Floyd’s Cycle-Finding Algorithm.\n"
   ]
  },
  {
   "cell_type": "code",
   "execution_count": null,
   "metadata": {},
   "outputs": [],
   "source": []
  }
 ],
 "metadata": {
  "language_info": {
   "name": "python"
  }
 },
 "nbformat": 4,
 "nbformat_minor": 2
}

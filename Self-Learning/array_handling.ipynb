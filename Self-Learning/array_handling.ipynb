{
 "cells": [
  {
   "cell_type": "markdown",
   "metadata": {},
   "source": [
    "#### Arrays can be created using Python's built-in list data structure or using libraries like numpy for more advanced array operations"
   ]
  },
  {
   "cell_type": "markdown",
   "metadata": {},
   "source": [
    "##### Creating Arrays : Create One Dimentional Array and Two Dimentional Array"
   ]
  },
  {
   "cell_type": "code",
   "execution_count": 2,
   "metadata": {},
   "outputs": [
    {
     "name": "stdout",
     "output_type": "stream",
     "text": [
      "1-D Array:  [1, 2, 3, 4, 5]\n",
      "2-D Array: \n",
      "[[1 2]\n",
      " [3 4]]\n",
      "3-D Array: \n",
      "[[[1 2]\n",
      "  [3 4]]\n",
      "\n",
      " [[5 6]\n",
      "  [7 8]]]\n"
     ]
    }
   ],
   "source": [
    "# One-dimensional list\n",
    "arr = [1, 2, 3, 4, 5]\n",
    "print(\"1-D Array: \",arr)\n",
    "\n",
    "# Two-dimensional array using numpy\n",
    "import numpy as np\n",
    "arr_2d = np.array([[1, 2], [3, 4]])\n",
    "print(\"2-D Array: \")\n",
    "print(arr_2d)\n",
    "\n",
    "# Three-dimensiona array using numpy\n",
    "arr_3d = np.array([[[1,2],[3,4]],[[5,6],[7,8]]])\n",
    "print(\"3-D Array: \")\n",
    "print(arr_3d)"
   ]
  },
  {
   "cell_type": "markdown",
   "metadata": {},
   "source": [
    "##### Accessing Elements : Access elements using indices. Python uses 0-based indexing, meaning the first element is at index 0."
   ]
  },
  {
   "cell_type": "code",
   "execution_count": 3,
   "metadata": {},
   "outputs": [
    {
     "name": "stdout",
     "output_type": "stream",
     "text": [
      "Accessing 1D Element: 1\n",
      "Accessing 2D Element: 3\n",
      "Accessing 3D Element: 2\n"
     ]
    }
   ],
   "source": [
    "# Accessing elements\n",
    "first_element = arr[0]  # Output: 1\n",
    "element_2d = arr_2d[1, 0]  # Output: 3\n",
    "element_3d = arr_3d[0,0,1]\n",
    "print(\"Accessing 1D Element:\",first_element)\n",
    "print(\"Accessing 2D Element:\",element_2d)\n",
    "print(\"Accessing 3D Element:\", element_3d)"
   ]
  },
  {
   "cell_type": "markdown",
   "metadata": {},
   "source": [
    "##### Array Slicing : Slicing is used to access a range of elements from an array. The syntax is array[start:stop:step]."
   ]
  },
  {
   "cell_type": "code",
   "execution_count": 4,
   "metadata": {},
   "outputs": [
    {
     "name": "stdout",
     "output_type": "stream",
     "text": [
      "First 3 Elements:  [1, 2, 3]\n"
     ]
    }
   ],
   "source": [
    "# Slicing\n",
    "first_three = arr[:3]  # Output: [1, 2, 3]\n",
    "print(\"First 3 Elements: \",first_three)"
   ]
  },
  {
   "cell_type": "markdown",
   "metadata": {},
   "source": [
    "##### Array Length : The len() function is used to determine the number of elements in an array."
   ]
  },
  {
   "cell_type": "code",
   "execution_count": 5,
   "metadata": {},
   "outputs": [
    {
     "name": "stdout",
     "output_type": "stream",
     "text": [
      "Length of Array:  5\n"
     ]
    }
   ],
   "source": [
    "length = len(arr)\n",
    "print(\"Length of Array: \",length)"
   ]
  },
  {
   "cell_type": "markdown",
   "metadata": {},
   "source": [
    "#### Modifying Array: Arrays can be modified by assigning new values to specific indices or by appending new elements."
   ]
  },
  {
   "cell_type": "code",
   "execution_count": 6,
   "metadata": {},
   "outputs": [
    {
     "name": "stdout",
     "output_type": "stream",
     "text": [
      "Old Array:  [1, 10, 3, 4, 5]\n",
      "New Array:  [1, 10, 3, 4, 5, 6]\n"
     ]
    }
   ],
   "source": [
    "# Modifying array elements\n",
    "arr[1] = 10  # arr becomes [1, 10, 3, 4, 5]\n",
    "print(\"Old Array: \",arr)\n",
    "arr.append(6)  # arr becomes [1, 10, 3, 4, 5, 6]\n",
    "print(\"New Array: \",arr)"
   ]
  },
  {
   "cell_type": "markdown",
   "metadata": {},
   "source": [
    "##### Iterating Arrays : Use loops to iterate over elements in an array"
   ]
  },
  {
   "cell_type": "code",
   "execution_count": 7,
   "metadata": {},
   "outputs": [
    {
     "name": "stdout",
     "output_type": "stream",
     "text": [
      "1\n",
      "10\n",
      "3\n",
      "4\n",
      "5\n",
      "6\n"
     ]
    }
   ],
   "source": [
    "# Iterating over an array\n",
    "for element in arr:\n",
    "    print(element)"
   ]
  },
  {
   "cell_type": "markdown",
   "metadata": {},
   "source": [
    "##### Array Operations with numpy : numpy allows for efficient array operations like addition, subtraction, and element-wise multiplication"
   ]
  },
  {
   "cell_type": "code",
   "execution_count": 9,
   "metadata": {},
   "outputs": [
    {
     "data": {
      "text/plain": [
       "array([5, 7, 9])"
      ]
     },
     "execution_count": 9,
     "metadata": {},
     "output_type": "execute_result"
    }
   ],
   "source": [
    "import numpy as np\n",
    "arr1 = np.array([1, 2, 3])\n",
    "arr2 = np.array([4, 5, 6])\n",
    "result = arr1 + arr2  # Output: [5, 7, 9]\n",
    "result"
   ]
  },
  {
   "cell_type": "markdown",
   "metadata": {},
   "source": [
    "##### Reshaping Arrays : The shape of an array can be changed using the reshape() method in numpy."
   ]
  },
  {
   "cell_type": "code",
   "execution_count": 12,
   "metadata": {},
   "outputs": [
    {
     "data": {
      "text/plain": [
       "array([[1, 2, 3],\n",
       "       [4, 5, 6]])"
      ]
     },
     "execution_count": 12,
     "metadata": {},
     "output_type": "execute_result"
    }
   ],
   "source": [
    "arr = np.array([1, 2, 3, 4, 5, 6])\n",
    "reshaped_arr = arr.reshape(2, 3)  # Output: [[1, 2, 3], [4, 5, 6]]\n",
    "reshaped_arr"
   ]
  },
  {
   "cell_type": "markdown",
   "metadata": {},
   "source": [
    "##### Array Broadcasting : Broadcasting in numpy allows arrays of different shapes to be used in arithmetic operations."
   ]
  },
  {
   "cell_type": "code",
   "execution_count": 13,
   "metadata": {},
   "outputs": [
    {
     "data": {
      "text/plain": [
       "array([[5, 6, 7],\n",
       "       [6, 7, 8],\n",
       "       [7, 8, 9]])"
      ]
     },
     "execution_count": 13,
     "metadata": {},
     "output_type": "execute_result"
    }
   ],
   "source": [
    "arr1 = np.array([1, 2, 3])\n",
    "arr2 = np.array([[4], [5], [6]])\n",
    "result = arr1 + arr2  # Broadcasting adds arr1 to each row of arr2\n",
    "result"
   ]
  },
  {
   "cell_type": "markdown",
   "metadata": {},
   "source": [
    "##### Array Aggregation : Aggregation operations like sum, min, and max can be performed on arrays."
   ]
  },
  {
   "cell_type": "code",
   "execution_count": 16,
   "metadata": {},
   "outputs": [
    {
     "name": "stdout",
     "output_type": "stream",
     "text": [
      "Sum:  15\n",
      "Minimum:  1\n",
      "Maximum:  5\n"
     ]
    }
   ],
   "source": [
    "arr = np.array([1, 2, 3, 4, 5])\n",
    "total = np.sum(arr)  # Output: 15\n",
    "print(\"Sum: \",total)\n",
    "minimum = np.min(arr)\n",
    "print(\"Minimum: \",minimum)\n",
    "maximum = np.max(arr)\n",
    "print(\"Maximum: \",maximum)"
   ]
  },
  {
   "cell_type": "code",
   "execution_count": null,
   "metadata": {},
   "outputs": [],
   "source": []
  }
 ],
 "metadata": {
  "kernelspec": {
   "display_name": "Python 3",
   "language": "python",
   "name": "python3"
  },
  "language_info": {
   "codemirror_mode": {
    "name": "ipython",
    "version": 3
   },
   "file_extension": ".py",
   "mimetype": "text/x-python",
   "name": "python",
   "nbconvert_exporter": "python",
   "pygments_lexer": "ipython3",
   "version": "3.12.4"
  }
 },
 "nbformat": 4,
 "nbformat_minor": 2
}

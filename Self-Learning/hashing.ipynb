{
 "cells": [
  {
   "cell_type": "markdown",
   "metadata": {},
   "source": [
    "1. **Find the First Non-Repeating Character**\n",
    "   - Find the first non-repeating character in a string.\n",
    "\n",
    "2. **Count Frequency of Elements in an Array**\n",
    "   - Use a hash map to count the frequency of each element in an array.\n"
   ]
  },
  {
   "cell_type": "code",
   "execution_count": null,
   "metadata": {},
   "outputs": [],
   "source": []
  }
 ],
 "metadata": {
  "language_info": {
   "name": "python"
  }
 },
 "nbformat": 4,
 "nbformat_minor": 2
}

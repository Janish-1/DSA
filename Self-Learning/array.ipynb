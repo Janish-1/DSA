{
 "cells": [
  {
   "cell_type": "markdown",
   "metadata": {},
   "source": [
    "1. **Find the Largest Element in an Array**\n",
    "   - Given an array, find the largest element without using any built-in function.\n",
    "\n",
    "2. **Find the Second Largest Element in an Array**\n",
    "   - Modify the previous solution to find the second largest element.\n",
    "\n",
    "3. **Reverse an Array**\n",
    "   - Given an array, reverse its elements without using built-in reverse methods.\n",
    "\n",
    "4. **Check if an Array is Sorted**\n",
    "   - Write a function to check if the elements of an array are sorted in ascending order.\n",
    "\n",
    "5. **Remove Duplicates from a Sorted Array**\n",
    "   - Remove duplicates from a sorted array and return the new length of the modified array.\n"
   ]
  },
  {
   "cell_type": "code",
   "execution_count": 4,
   "metadata": {},
   "outputs": [
    {
     "name": "stdout",
     "output_type": "stream",
     "text": [
      "[10, 20, 30]\n",
      "20\n",
      "3\n"
     ]
    }
   ],
   "source": [
    "# Largest Element in array\n",
    "class DynamicArray:\n",
    "    def __init__(self):\n",
    "        self._capacity = 1   # Initial Size\n",
    "        self._size = 0  # Current number of elements\n",
    "        self._array = [None] * self._capacity  # Initialize the array\n",
    "    \n",
    "    def _resize(self,new_capacity):\n",
    "        # Create a new array with new capacity and copy over new elements\n",
    "        new_array = [None] * new_capacity  # Clear out the array\n",
    "        for i in range(self._size): # Iterate over size \n",
    "            new_array[i] = self._array[i]  # Add Elements of current array\n",
    "        self._array = new_array # Assign New Array \n",
    "        self._capacity = new_capacity # Assign New Capacity\n",
    "\n",
    "    def append(self,value):\n",
    "        # If array is full do not append\n",
    "        if self._size == self._capacity:\n",
    "            self._resize(2*self._capacity)\n",
    "        self._array[self._size] = value\n",
    "        self._size += 1\n",
    "\n",
    "    def get(self,index):\n",
    "        if 0 <= index < self._size:\n",
    "            return self._array[index]\n",
    "        raise IndexError('Index is out of bounds')\n",
    "\n",
    "    def __len__(self):\n",
    "        return self._size\n",
    "\n",
    "    def __str__(self):\n",
    "        return \"[\" + \", \".join(str(self._array[i]) for i in range(self._size)) + \"]\"\n",
    "\n",
    "dynamic_array = DynamicArray()\n",
    "dynamic_array.append(10)\n",
    "dynamic_array.append(20)\n",
    "dynamic_array.append(30)\n",
    "\n",
    "print(dynamic_array)        # Output: [10, 20, 30]\n",
    "print(dynamic_array.get(1)) # Output: 20\n",
    "print(len(dynamic_array))   # Output: 3"
   ]
  },
  {
   "cell_type": "code",
   "execution_count": null,
   "metadata": {},
   "outputs": [],
   "source": []
  }
 ],
 "metadata": {
  "kernelspec": {
   "display_name": "Python 3",
   "language": "python",
   "name": "python3"
  },
  "language_info": {
   "codemirror_mode": {
    "name": "ipython",
    "version": 3
   },
   "file_extension": ".py",
   "mimetype": "text/x-python",
   "name": "python",
   "nbconvert_exporter": "python",
   "pygments_lexer": "ipython3",
   "version": "3.12.6"
  }
 },
 "nbformat": 4,
 "nbformat_minor": 2
}

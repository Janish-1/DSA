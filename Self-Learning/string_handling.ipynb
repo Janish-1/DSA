{
 "cells": [
  {
   "cell_type": "markdown",
   "metadata": {},
   "source": [
    "##### Strings in Python are sequences of characters enclosed in quotes (', \", ''', or \"\"\")."
   ]
  },
  {
   "cell_type": "markdown",
   "metadata": {},
   "source": [
    "##### Creating Strings"
   ]
  },
  {
   "cell_type": "code",
   "execution_count": 22,
   "metadata": {},
   "outputs": [
    {
     "name": "stdout",
     "output_type": "stream",
     "text": [
      "Single Quote String:  Hello, World!\n",
      "Double Quote String:  Hello, World!\n"
     ]
    }
   ],
   "source": [
    "single_quote_str = 'Hello, World!'\n",
    "double_quote_str = \"Hello, World!\"\n",
    "# Both strings are identical; Python allows either single or double quotes.\n",
    "print(\"Single Quote String: \",single_quote_str)\n",
    "print(\"Double Quote String: \",double_quote_str)"
   ]
  },
  {
   "cell_type": "markdown",
   "metadata": {},
   "source": [
    "##### Accessing String Characters : You can access individual characters in a string using indexing. Python uses 0-based indexing."
   ]
  },
  {
   "cell_type": "code",
   "execution_count": 23,
   "metadata": {},
   "outputs": [
    {
     "name": "stdout",
     "output_type": "stream",
     "text": [
      "First Character :  H\n",
      "Last Character :  o\n",
      "Second Character :  e\n",
      "Second Last Character :  l\n"
     ]
    }
   ],
   "source": [
    "s = \"Hello\"\n",
    "first_char = s[0]  # Output: 'H'\n",
    "print(\"First Character : \",first_char)\n",
    "last_char = s[-1]  # Output: 'o'\n",
    "print(\"Last Character : \",last_char)\n",
    "\n",
    "first_char = s[1]  # Output: 'H'\n",
    "print(\"Second Character : \",first_char)\n",
    "last_char = s[-2]  # Output: 'o'\n",
    "print(\"Second Last Character : \",last_char)\n"
   ]
  },
  {
   "cell_type": "markdown",
   "metadata": {},
   "source": [
    "##### String Slicing : Slicing allows you to extract a substring by specifying a range of indices."
   ]
  },
  {
   "cell_type": "code",
   "execution_count": 24,
   "metadata": {},
   "outputs": [
    {
     "name": "stdout",
     "output_type": "stream",
     "text": [
      "Substring1 :  ell\n",
      "Substring2 :  el\n"
     ]
    }
   ],
   "source": [
    "s = \"Hello\"\n",
    "substring1 = s[1:4]  # Output: 'ell'\n",
    "print(\"Substring1 : \",substring1)\n",
    "substring2 = s[1:3]\n",
    "print(\"Substring2 : \",substring2)"
   ]
  },
  {
   "cell_type": "markdown",
   "metadata": {},
   "source": [
    "##### String Length: Use the len() function to determine the number of characters in a string."
   ]
  },
  {
   "cell_type": "code",
   "execution_count": 25,
   "metadata": {},
   "outputs": [
    {
     "name": "stdout",
     "output_type": "stream",
     "text": [
      "6\n"
     ]
    }
   ],
   "source": [
    "s = \"Python\"\n",
    "length = len(s)\n",
    "print(length)  # Output: 6"
   ]
  },
  {
   "cell_type": "markdown",
   "metadata": {},
   "source": [
    "##### String Concatenation : Strings can be concatenated (joined) using the + operator."
   ]
  },
  {
   "cell_type": "code",
   "execution_count": 26,
   "metadata": {},
   "outputs": [
    {
     "name": "stdout",
     "output_type": "stream",
     "text": [
      "Hello World\n"
     ]
    }
   ],
   "source": [
    "s1 = \"Hello\"\n",
    "s2 = \"World\"\n",
    "result = s1 + \" \" + s2\n",
    "print(result)  # Output: Hello World"
   ]
  },
  {
   "cell_type": "markdown",
   "metadata": {},
   "source": [
    "##### String Repetation : You can repeat a string multiple times using the * operator."
   ]
  },
  {
   "cell_type": "code",
   "execution_count": 27,
   "metadata": {},
   "outputs": [
    {
     "name": "stdout",
     "output_type": "stream",
     "text": [
      "HaHaHa\n"
     ]
    }
   ],
   "source": [
    "s = \"Ha\"\n",
    "result = s * 3\n",
    "print(result)  # Output: HaHaHa"
   ]
  },
  {
   "cell_type": "markdown",
   "metadata": {},
   "source": [
    "##### String Methods : Python provides many built-in string methods, such as upper(), lower(), replace(), find(), etc."
   ]
  },
  {
   "cell_type": "code",
   "execution_count": 28,
   "metadata": {},
   "outputs": [
    {
     "name": "stdout",
     "output_type": "stream",
     "text": [
      "HELLO, WORLD\n",
      "Hi, World\n"
     ]
    }
   ],
   "source": [
    "s = \"Hello, World\"\n",
    "upper_s = s.upper()\n",
    "replaced_s = s.replace(\"Hello\", \"Hi\")\n",
    "print(upper_s)  # Output: HELLO, WORLD\n",
    "print(replaced_s)  # Output: Hi, World"
   ]
  },
  {
   "cell_type": "markdown",
   "metadata": {},
   "source": [
    "##### String Formatting : Python allows for formatted strings using the format() method or f-strings (since Python 3.6)."
   ]
  },
  {
   "cell_type": "code",
   "execution_count": 29,
   "metadata": {},
   "outputs": [
    {
     "name": "stdout",
     "output_type": "stream",
     "text": [
      "Hello, Alice!\n"
     ]
    }
   ],
   "source": [
    "name = \"Alice\"\n",
    "greeting = f\"Hello, {name}!\"\n",
    "print(greeting)  # Output: Hello, Alice!"
   ]
  },
  {
   "cell_type": "markdown",
   "metadata": {},
   "source": [
    "##### Checking Substrings : You can check if a substring exists within a string using the in keyword."
   ]
  },
  {
   "cell_type": "code",
   "execution_count": 30,
   "metadata": {},
   "outputs": [
    {
     "name": "stdout",
     "output_type": "stream",
     "text": [
      "True\n"
     ]
    }
   ],
   "source": [
    "s = \"I love Python\"\n",
    "result = \"Python\" in s\n",
    "print(result)  # Output: True"
   ]
  },
  {
   "cell_type": "markdown",
   "metadata": {},
   "source": [
    "#### Splitting and Joining : Use the split() method to break a string into a list of words, and join() to concatenate a list of strings into a single string."
   ]
  },
  {
   "cell_type": "code",
   "execution_count": 31,
   "metadata": {},
   "outputs": [
    {
     "name": "stdout",
     "output_type": "stream",
     "text": [
      "['Hello', 'World']\n",
      "Hello-World\n"
     ]
    }
   ],
   "source": [
    "s = \"Hello World\"\n",
    "words = s.split()\n",
    "hyphenated = \"-\".join(words)\n",
    "print(words)  # Output: ['Hello', 'World']\n",
    "print(hyphenated)  # Output: Hello-World"
   ]
  },
  {
   "cell_type": "markdown",
   "metadata": {},
   "source": [
    "##### String Immutablity : Strings in Python are immutable, meaning they cannot be changed after they are created."
   ]
  },
  {
   "cell_type": "code",
   "execution_count": 32,
   "metadata": {},
   "outputs": [
    {
     "name": "stdout",
     "output_type": "stream",
     "text": [
      "Strings are immutable!\n"
     ]
    }
   ],
   "source": [
    "s = \"Hello\"\n",
    "try:\n",
    "    s[0] = \"h\"\n",
    "except TypeError:\n",
    "    print(\"Strings are immutable!\")  # Output: Strings are immutable!"
   ]
  },
  {
   "cell_type": "markdown",
   "metadata": {},
   "source": [
    "##### Reversing a String : Strings can be reversed using slicing."
   ]
  },
  {
   "cell_type": "code",
   "execution_count": 33,
   "metadata": {},
   "outputs": [
    {
     "name": "stdout",
     "output_type": "stream",
     "text": [
      "nohtyP\n"
     ]
    }
   ],
   "source": [
    "s = \"Python\"\n",
    "reversed_s = s[::-1]  # Output: 'nohtyP'\n",
    "print(reversed_s)"
   ]
  },
  {
   "cell_type": "markdown",
   "metadata": {},
   "source": [
    "##### Removing Whitespace : Use the strip(), lstrip(), and rstrip() methods to remove whitespace from a string."
   ]
  },
  {
   "cell_type": "code",
   "execution_count": 34,
   "metadata": {},
   "outputs": [
    {
     "name": "stdout",
     "output_type": "stream",
     "text": [
      "Hello\n"
     ]
    }
   ],
   "source": [
    "s = \"   Hello   \"\n",
    "stripped_s = s.strip()  # Output: 'Hello'\n",
    "print(stripped_s)"
   ]
  },
  {
   "cell_type": "markdown",
   "metadata": {},
   "source": [
    "##### String Comparison : Strings can be compared using comparison operators (==, <, >, etc.)."
   ]
  },
  {
   "cell_type": "code",
   "execution_count": 35,
   "metadata": {},
   "outputs": [
    {
     "name": "stdout",
     "output_type": "stream",
     "text": [
      "7\n"
     ]
    }
   ],
   "source": [
    "s = \"Hello, World\"\n",
    "position = s.find(\"World\")  # Output: 7\n",
    "print(position)"
   ]
  },
  {
   "cell_type": "markdown",
   "metadata": {},
   "source": [
    "##### Finding a Substring : Use the find() or index() methods to locate the position of a substring within a string."
   ]
  },
  {
   "cell_type": "code",
   "execution_count": 36,
   "metadata": {},
   "outputs": [
    {
     "name": "stdout",
     "output_type": "stream",
     "text": [
      "7\n"
     ]
    }
   ],
   "source": [
    "s = \"Hello, World\"\n",
    "position = s.find(\"World\")  # Output: 7\n",
    "print(position)"
   ]
  },
  {
   "cell_type": "code",
   "execution_count": null,
   "metadata": {},
   "outputs": [],
   "source": []
  }
 ],
 "metadata": {
  "kernelspec": {
   "display_name": "Python 3",
   "language": "python",
   "name": "python3"
  },
  "language_info": {
   "codemirror_mode": {
    "name": "ipython",
    "version": 3
   },
   "file_extension": ".py",
   "mimetype": "text/x-python",
   "name": "python",
   "nbconvert_exporter": "python",
   "pygments_lexer": "ipython3",
   "version": "3.12.4"
  }
 },
 "nbformat": 4,
 "nbformat_minor": 2
}

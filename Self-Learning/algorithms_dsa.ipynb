{
 "cells": [
  {
   "cell_type": "markdown",
   "metadata": {},
   "source": [
    "##### Linear Search : Linear search is a simple search algorithm that checks each element of a list one by one until the desired element is found or the list ends.\n",
    "##### Time Complexity: \n",
    "##### Best case: O(1) (if the target is at the first position) \n",
    "##### Worst case: O(n) (if the target is at the last position or not present)\n",
    "##### Space Complexity: O(1) (only a few extra variables are used)"
   ]
  },
  {
   "cell_type": "code",
   "execution_count": 4,
   "metadata": {},
   "outputs": [
    {
     "name": "stdout",
     "output_type": "stream",
     "text": [
      "Element found at index: 2\n"
     ]
    }
   ],
   "source": [
    "def linear_search(arr, target):\n",
    "    for index, value in enumerate(arr):\n",
    "        if value == target:\n",
    "            return index\n",
    "    return -1\n",
    "\n",
    "arr = [10, 20, 30, 40, 50]\n",
    "target = 30\n",
    "result = linear_search(arr, target)\n",
    "print(f\"Element found at index: {result}\")  # Output: Element found at index: 2"
   ]
  },
  {
   "cell_type": "markdown",
   "metadata": {},
   "source": [
    "##### Binary Search : Binary search is an efficient algorithm that works on sorted lists. It repeatedly divides the search interval in half until the target value is found or the interval is empty.\n",
    "##### Time Complexity:\n",
    "##### Best case: O(1) (if the target is at the middle)\n",
    "##### Worst case: O(log⁡n) (repeatedly halving the list)\n",
    "\n",
    "##### Space Complexity:\n",
    "##### Iterative version: O(1)\n",
    "##### Recursive version: O(log⁡n) (due to the call stack)"
   ]
  },
  {
   "cell_type": "code",
   "execution_count": 5,
   "metadata": {},
   "outputs": [
    {
     "name": "stdout",
     "output_type": "stream",
     "text": [
      "Element found at index: 3\n"
     ]
    }
   ],
   "source": [
    "def binary_search(arr,target):\n",
    "    left, right = 0, len(arr) - 1\n",
    "    while left <= right:\n",
    "        mid = (left + right) // 2\n",
    "        if arr[mid] == target:\n",
    "            return mid\n",
    "        elif arr[mid] < target:\n",
    "            left = mid + 1\n",
    "        else:\n",
    "            right = mid - 1\n",
    "    return -1\n",
    "\n",
    "arr = [10, 20, 30, 40, 50]\n",
    "target = 40\n",
    "result = binary_search(arr, target)\n",
    "print(f\"Element found at index: {result}\")  # Output: Element found at index: 3"
   ]
  },
  {
   "cell_type": "markdown",
   "metadata": {},
   "source": [
    "##### Bubble Sort: Repeatedly step through the list, swapping adjacent elements if they are in the wrong order.\n",
    "##### Time Complexity:\n",
    "##### Best case: O(n) (if the array is already sorted)\n",
    "##### Worst and average case: O(n^2)\n",
    "##### Space Complexity: \n",
    "##### O(1)O(sorting is done in place)"
   ]
  },
  {
   "cell_type": "code",
   "execution_count": null,
   "metadata": {},
   "outputs": [],
   "source": []
  }
 ],
 "metadata": {
  "kernelspec": {
   "display_name": "Python 3",
   "language": "python",
   "name": "python3"
  },
  "language_info": {
   "codemirror_mode": {
    "name": "ipython",
    "version": 3
   },
   "file_extension": ".py",
   "mimetype": "text/x-python",
   "name": "python",
   "nbconvert_exporter": "python",
   "pygments_lexer": "ipython3",
   "version": "3.12.4"
  }
 },
 "nbformat": 4,
 "nbformat_minor": 2
}

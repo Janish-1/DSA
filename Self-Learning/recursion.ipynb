{
 "cells": [
  {
   "cell_type": "markdown",
   "metadata": {},
   "source": [
    "1. **Factorial of a Number**\n",
    "   - Calculate the factorial of a given number using recursion.\n",
    "\n",
    "2. **Fibonacci Sequence**\n",
    "   - Print the first `n` numbers in the Fibonacci sequence using recursion.\n",
    "\n",
    "3. **Sum of Digits**\n",
    "   - Find the sum of the digits of a number using recursion.\n"
   ]
  },
  {
   "cell_type": "code",
   "execution_count": null,
   "metadata": {},
   "outputs": [],
   "source": []
  }
 ],
 "metadata": {
  "language_info": {
   "name": "python"
  }
 },
 "nbformat": 4,
 "nbformat_minor": 2
}

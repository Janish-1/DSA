{
 "cells": [
  {
   "cell_type": "markdown",
   "metadata": {},
   "source": [
    "1. **Implement Stack using Array**\n",
    "   - Write a simple stack class with basic operations like `push`, `pop`, and `peek`.\n",
    "\n",
    "2. **Implement Queue using Array**\n",
    "   - Create a queue class with operations like `enqueue`, `dequeue`, and `front`.\n",
    "\n",
    "3. **Check for Balanced Parentheses**\n",
    "   - Check if a given string has balanced parentheses, brackets, and braces.\n"
   ]
  },
  {
   "cell_type": "code",
   "execution_count": null,
   "metadata": {},
   "outputs": [],
   "source": []
  }
 ],
 "metadata": {
  "language_info": {
   "name": "python"
  }
 },
 "nbformat": 4,
 "nbformat_minor": 2
}

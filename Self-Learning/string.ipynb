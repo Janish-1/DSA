{
 "cells": [
  {
   "cell_type": "markdown",
   "metadata": {},
   "source": [
    "1. **Check Palindrome**\n",
    "   - Given a string, determine if it reads the same forwards and backwards.\n",
    "\n",
    "2. **Count Vowels and Consonants**\n",
    "   - Count the number of vowels and consonants in a string.\n",
    "\n",
    "3. **Reverse a String**\n",
    "   - Reverse a given string without using any built-in reverse functions.\n",
    "\n",
    "4. **Check Anagram**\n",
    "   - Check if two strings are anagrams of each other.\n"
   ]
  },
  {
   "cell_type": "code",
   "execution_count": null,
   "metadata": {},
   "outputs": [],
   "source": []
  }
 ],
 "metadata": {
  "language_info": {
   "name": "python"
  }
 },
 "nbformat": 4,
 "nbformat_minor": 2
}
